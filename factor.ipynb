{
 "cells": [
  {
   "cell_type": "code",
   "execution_count": 21,
   "metadata": {},
   "outputs": [
    {
     "name": "stderr",
     "output_type": "stream",
     "text": [
      "[*********************100%***********************]  10 of 10 completed\n"
     ]
    }
   ],
   "source": [
    "import yfinance as yf\n",
    "import pandas as pd\n",
    "\n",
    "symbols = ['AAPL', 'MSFT', 'GOOGL', 'AMZN', 'Meta', 'TSLA', 'NVDA', 'ASML', 'ADBE', 'INTC']\n",
    "data = yf.download(symbols, start='2024-01-01', end='2025-02-18', auto_adjust=False)['Adj Close']\n",
    "# 計算估值因子（以P/E Ratio為例，這裡我們用股價近似代替）\n",
    "valuation_factor = data.tail(1).T  # 最新一天的價格，作為估值的代表\n",
    "\n",
    "# 計算動量因子（過去6個月的回報率）\n",
    "momentum_factor = data.pct_change(periods=126).tail(1).T  # 126天約為6個月\n"
   ]
  },
  {
   "cell_type": "code",
   "execution_count": 22,
   "metadata": {},
   "outputs": [],
   "source": [
    "# 因子標準化\n",
    "# 計算估值因子（以P/E Ratio為例，這裡我們用股價近似代替）\n",
    "valuation_factor = data.tail(1).T  # 最新一天的價格，作為估值的代表\n",
    "\n",
    "# 計算動量因子（過去6個月的回報率）\n",
    "momentum_factor = data.pct_change(periods=126).tail(1).T  # 126天約為6個月\n",
    "\n",
    "# 因子標準化\n",
    "valuation_factor = (valuation_factor - valuation_factor.mean()) / valuation_factor.std()\n",
    "momentum_factor = (momentum_factor - momentum_factor.mean()) / momentum_factor.std()\n",
    "\n",
    "# 綜合因子得分（權重可自行調整，這裡我們取相等權重）\n",
    "factor_scores = 0.5 * valuation_factor + 0.5 * momentum_factor\n",
    "\n",
    "# 將 DataFrame 轉換為 Series，並以 index（股票符號）作為索引\n",
    "factor_scores = factor_scores.squeeze()  # 將單列 DataFrame 轉換為 Series\n",
    "\n",
    "# 根據綜合得分進行排序\n",
    "factor_scores = factor_scores.sort_values(ascending=False)"
   ]
  },
  {
   "cell_type": "code",
   "execution_count": 23,
   "metadata": {},
   "outputs": [
    {
     "name": "stdout",
     "output_type": "stream",
     "text": [
      "選擇的投資組合: Index(['META', 'TSLA'], dtype='object', name='Ticker')\n",
      "綜合因子得分: Ticker\n",
      "META     1.187049\n",
      "TSLA     1.069964\n",
      "ASML     0.224979\n",
      "AMZN     0.037571\n",
      "MSFT    -0.250090\n",
      "AAPL    -0.364922\n",
      "ADBE    -0.382413\n",
      "GOOGL   -0.391949\n",
      "NVDA    -0.454293\n",
      "INTC    -0.675896\n",
      "Name: 2025-02-14 00:00:00, dtype: float64\n"
     ]
    }
   ],
   "source": [
    "# 選擇得分最高的2只股票\n",
    "top_stocks = factor_scores.index[:2]\n",
    "print(\"選擇的投資組合:\", top_stocks)\n",
    "print(\"綜合因子得分:\", factor_scores)"
   ]
  },
  {
   "cell_type": "code",
   "execution_count": 38,
   "metadata": {},
   "outputs": [
    {
     "name": "stderr",
     "output_type": "stream",
     "text": [
      "[*********************100%***********************]  1 of 1 completed"
     ]
    },
    {
     "name": "stderr",
     "output_type": "stream",
     "text": [
      "\n",
      "[*********************100%***********************]  1 of 1 completed\n",
      "[*********************100%***********************]  1 of 1 completed\n",
      "[*********************100%***********************]  1 of 1 completed\n"
     ]
    },
    {
     "name": "stdout",
     "output_type": "stream",
     "text": [
      "夏普比率: nan\n",
      "最大回撤: 0.00%\n",
      "總收益: nan%\n"
     ]
    },
    {
     "ename": "ValueError",
     "evalue": "Axis limits cannot be NaN or Inf",
     "output_type": "error",
     "traceback": [
      "\u001b[0;31m---------------------------------------------------------------------------\u001b[0m",
      "\u001b[0;31mValueError\u001b[0m                                Traceback (most recent call last)",
      "Cell \u001b[0;32mIn[38], line 69\u001b[0m\n\u001b[1;32m     67\u001b[0m plt\u001b[38;5;241m.\u001b[39mrcParams[\u001b[38;5;124m'\u001b[39m\u001b[38;5;124mfigure.figsize\u001b[39m\u001b[38;5;124m'\u001b[39m] \u001b[38;5;241m=\u001b[39m [\u001b[38;5;241m15\u001b[39m, \u001b[38;5;241m12\u001b[39m]\n\u001b[1;32m     68\u001b[0m plt\u001b[38;5;241m.\u001b[39mrcParams\u001b[38;5;241m.\u001b[39mupdate({\u001b[38;5;124m'\u001b[39m\u001b[38;5;124mfont.size\u001b[39m\u001b[38;5;124m'\u001b[39m: \u001b[38;5;241m12\u001b[39m})\n\u001b[0;32m---> 69\u001b[0m img \u001b[38;5;241m=\u001b[39m \u001b[43mcerebro\u001b[49m\u001b[38;5;241;43m.\u001b[39;49m\u001b[43mplot\u001b[49m\u001b[43m(\u001b[49m\u001b[43miplot\u001b[49m\u001b[38;5;241;43m=\u001b[39;49m\u001b[38;5;28;43;01mFalse\u001b[39;49;00m\u001b[43m)\u001b[49m\n\u001b[1;32m     70\u001b[0m img[\u001b[38;5;241m0\u001b[39m][\u001b[38;5;241m0\u001b[39m]\u001b[38;5;241m.\u001b[39msavefig(\u001b[38;5;124m'\u001b[39m\u001b[38;5;124mbacktrader_factor.png\u001b[39m\u001b[38;5;124m'\u001b[39m)\n",
      "File \u001b[0;32m~/anaconda3/envs/Torch/lib/python3.10/site-packages/backtrader/cerebro.py:994\u001b[0m, in \u001b[0;36mCerebro.plot\u001b[0;34m(self, plotter, numfigs, iplot, start, end, width, height, dpi, tight, use, **kwargs)\u001b[0m\n\u001b[1;32m    992\u001b[0m \u001b[38;5;28;01mfor\u001b[39;00m stratlist \u001b[38;5;129;01min\u001b[39;00m \u001b[38;5;28mself\u001b[39m\u001b[38;5;241m.\u001b[39mrunstrats:\n\u001b[1;32m    993\u001b[0m     \u001b[38;5;28;01mfor\u001b[39;00m si, strat \u001b[38;5;129;01min\u001b[39;00m \u001b[38;5;28menumerate\u001b[39m(stratlist):\n\u001b[0;32m--> 994\u001b[0m         rfig \u001b[38;5;241m=\u001b[39m \u001b[43mplotter\u001b[49m\u001b[38;5;241;43m.\u001b[39;49m\u001b[43mplot\u001b[49m\u001b[43m(\u001b[49m\u001b[43mstrat\u001b[49m\u001b[43m,\u001b[49m\u001b[43m \u001b[49m\u001b[43mfigid\u001b[49m\u001b[38;5;241;43m=\u001b[39;49m\u001b[43msi\u001b[49m\u001b[43m \u001b[49m\u001b[38;5;241;43m*\u001b[39;49m\u001b[43m \u001b[49m\u001b[38;5;241;43m100\u001b[39;49m\u001b[43m,\u001b[49m\n\u001b[1;32m    995\u001b[0m \u001b[43m                            \u001b[49m\u001b[43mnumfigs\u001b[49m\u001b[38;5;241;43m=\u001b[39;49m\u001b[43mnumfigs\u001b[49m\u001b[43m,\u001b[49m\u001b[43m \u001b[49m\u001b[43miplot\u001b[49m\u001b[38;5;241;43m=\u001b[39;49m\u001b[43miplot\u001b[49m\u001b[43m,\u001b[49m\n\u001b[1;32m    996\u001b[0m \u001b[43m                            \u001b[49m\u001b[43mstart\u001b[49m\u001b[38;5;241;43m=\u001b[39;49m\u001b[43mstart\u001b[49m\u001b[43m,\u001b[49m\u001b[43m \u001b[49m\u001b[43mend\u001b[49m\u001b[38;5;241;43m=\u001b[39;49m\u001b[43mend\u001b[49m\u001b[43m,\u001b[49m\u001b[43m \u001b[49m\u001b[43muse\u001b[49m\u001b[38;5;241;43m=\u001b[39;49m\u001b[43muse\u001b[49m\u001b[43m)\u001b[49m\n\u001b[1;32m    997\u001b[0m         \u001b[38;5;66;03m# pfillers=pfillers2)\u001b[39;00m\n\u001b[1;32m    999\u001b[0m         figs\u001b[38;5;241m.\u001b[39mappend(rfig)\n",
      "File \u001b[0;32m~/anaconda3/envs/Torch/lib/python3.10/site-packages/backtrader/plot/plot.py:223\u001b[0m, in \u001b[0;36mPlot_OldSync.plot\u001b[0;34m(self, strategy, figid, numfigs, iplot, start, end, **kwargs)\u001b[0m\n\u001b[1;32m    215\u001b[0m \u001b[38;5;28;01mfor\u001b[39;00m ind \u001b[38;5;129;01min\u001b[39;00m \u001b[38;5;28mself\u001b[39m\u001b[38;5;241m.\u001b[39mdplotsup[data]:\n\u001b[1;32m    216\u001b[0m     \u001b[38;5;28mself\u001b[39m\u001b[38;5;241m.\u001b[39mplotind(\n\u001b[1;32m    217\u001b[0m         data,\n\u001b[1;32m    218\u001b[0m         ind,\n\u001b[1;32m    219\u001b[0m         subinds\u001b[38;5;241m=\u001b[39m\u001b[38;5;28mself\u001b[39m\u001b[38;5;241m.\u001b[39mdplotsover[ind],\n\u001b[1;32m    220\u001b[0m         upinds\u001b[38;5;241m=\u001b[39m\u001b[38;5;28mself\u001b[39m\u001b[38;5;241m.\u001b[39mdplotsup[ind],\n\u001b[1;32m    221\u001b[0m         downinds\u001b[38;5;241m=\u001b[39m\u001b[38;5;28mself\u001b[39m\u001b[38;5;241m.\u001b[39mdplotsdown[ind])\n\u001b[0;32m--> 223\u001b[0m \u001b[38;5;28;43mself\u001b[39;49m\u001b[38;5;241;43m.\u001b[39;49m\u001b[43mplotdata\u001b[49m\u001b[43m(\u001b[49m\u001b[43mdata\u001b[49m\u001b[43m,\u001b[49m\u001b[43m \u001b[49m\u001b[38;5;28;43mself\u001b[39;49m\u001b[38;5;241;43m.\u001b[39;49m\u001b[43mdplotsover\u001b[49m\u001b[43m[\u001b[49m\u001b[43mdata\u001b[49m\u001b[43m]\u001b[49m\u001b[43m)\u001b[49m\n\u001b[1;32m    225\u001b[0m \u001b[38;5;28;01mfor\u001b[39;00m ind \u001b[38;5;129;01min\u001b[39;00m \u001b[38;5;28mself\u001b[39m\u001b[38;5;241m.\u001b[39mdplotsdown[data]:\n\u001b[1;32m    226\u001b[0m     \u001b[38;5;28mself\u001b[39m\u001b[38;5;241m.\u001b[39mplotind(\n\u001b[1;32m    227\u001b[0m         data,\n\u001b[1;32m    228\u001b[0m         ind,\n\u001b[1;32m    229\u001b[0m         subinds\u001b[38;5;241m=\u001b[39m\u001b[38;5;28mself\u001b[39m\u001b[38;5;241m.\u001b[39mdplotsover[ind],\n\u001b[1;32m    230\u001b[0m         upinds\u001b[38;5;241m=\u001b[39m\u001b[38;5;28mself\u001b[39m\u001b[38;5;241m.\u001b[39mdplotsup[ind],\n\u001b[1;32m    231\u001b[0m         downinds\u001b[38;5;241m=\u001b[39m\u001b[38;5;28mself\u001b[39m\u001b[38;5;241m.\u001b[39mdplotsdown[ind])\n",
      "File \u001b[0;32m~/anaconda3/envs/Torch/lib/python3.10/site-packages/backtrader/plot/plot.py:674\u001b[0m, in \u001b[0;36mPlot_OldSync.plotdata\u001b[0;34m(self, data, indicators)\u001b[0m\n\u001b[1;32m    672\u001b[0m axdatamaster \u001b[38;5;241m=\u001b[39m \u001b[38;5;28;01mNone\u001b[39;00m\n\u001b[1;32m    673\u001b[0m \u001b[38;5;28;01mif\u001b[39;00m \u001b[38;5;28mself\u001b[39m\u001b[38;5;241m.\u001b[39mpinf\u001b[38;5;241m.\u001b[39msch\u001b[38;5;241m.\u001b[39mvolume \u001b[38;5;129;01mand\u001b[39;00m voloverlay:\n\u001b[0;32m--> 674\u001b[0m     volplot \u001b[38;5;241m=\u001b[39m \u001b[38;5;28;43mself\u001b[39;49m\u001b[38;5;241;43m.\u001b[39;49m\u001b[43mplotvolume\u001b[49m\u001b[43m(\u001b[49m\n\u001b[1;32m    675\u001b[0m \u001b[43m        \u001b[49m\u001b[43mdata\u001b[49m\u001b[43m,\u001b[49m\u001b[43m \u001b[49m\u001b[43mopens\u001b[49m\u001b[43m,\u001b[49m\u001b[43m \u001b[49m\u001b[43mhighs\u001b[49m\u001b[43m,\u001b[49m\u001b[43m \u001b[49m\u001b[43mlows\u001b[49m\u001b[43m,\u001b[49m\u001b[43m \u001b[49m\u001b[43mcloses\u001b[49m\u001b[43m,\u001b[49m\u001b[43m \u001b[49m\u001b[43mvolumes\u001b[49m\u001b[43m,\u001b[49m\u001b[43m \u001b[49m\u001b[43mvollabel\u001b[49m\u001b[43m)\u001b[49m\n\u001b[1;32m    676\u001b[0m     axvol \u001b[38;5;241m=\u001b[39m \u001b[38;5;28mself\u001b[39m\u001b[38;5;241m.\u001b[39mpinf\u001b[38;5;241m.\u001b[39mdaxis[data\u001b[38;5;241m.\u001b[39mvolume]\n\u001b[1;32m    677\u001b[0m     ax \u001b[38;5;241m=\u001b[39m axvol\u001b[38;5;241m.\u001b[39mtwinx()\n",
      "File \u001b[0;32m~/anaconda3/envs/Torch/lib/python3.10/site-packages/backtrader/plot/plot.py:617\u001b[0m, in \u001b[0;36mPlot_OldSync.plotvolume\u001b[0;34m(self, data, opens, highs, lows, closes, volumes, label)\u001b[0m\n\u001b[1;32m    614\u001b[0m     prune \u001b[38;5;241m=\u001b[39m \u001b[38;5;28;01mNone\u001b[39;00m\n\u001b[1;32m    616\u001b[0m     volylim \u001b[38;5;241m/\u001b[39m\u001b[38;5;241m=\u001b[39m \u001b[38;5;28mself\u001b[39m\u001b[38;5;241m.\u001b[39mpinf\u001b[38;5;241m.\u001b[39msch\u001b[38;5;241m.\u001b[39mvolscaling\n\u001b[0;32m--> 617\u001b[0m     \u001b[43max\u001b[49m\u001b[38;5;241;43m.\u001b[39;49m\u001b[43mset_ylim\u001b[49m\u001b[43m(\u001b[49m\u001b[38;5;241;43m0\u001b[39;49m\u001b[43m,\u001b[49m\u001b[43m \u001b[49m\u001b[43mvolylim\u001b[49m\u001b[43m,\u001b[49m\u001b[43m \u001b[49m\u001b[43mauto\u001b[49m\u001b[38;5;241;43m=\u001b[39;49m\u001b[38;5;28;43;01mTrue\u001b[39;49;00m\u001b[43m)\u001b[49m\n\u001b[1;32m    618\u001b[0m \u001b[38;5;28;01melse\u001b[39;00m:\n\u001b[1;32m    619\u001b[0m     \u001b[38;5;66;03m# plot a legend\u001b[39;00m\n\u001b[1;32m    620\u001b[0m     handles, labels \u001b[38;5;241m=\u001b[39m ax\u001b[38;5;241m.\u001b[39mget_legend_handles_labels()\n",
      "File \u001b[0;32m~/anaconda3/envs/Torch/lib/python3.10/site-packages/matplotlib/axes/_base.py:4017\u001b[0m, in \u001b[0;36m_AxesBase.set_ylim\u001b[0;34m(self, bottom, top, emit, auto, ymin, ymax)\u001b[0m\n\u001b[1;32m   4015\u001b[0m         \u001b[38;5;28;01mraise\u001b[39;00m \u001b[38;5;167;01mTypeError\u001b[39;00m(\u001b[38;5;124m\"\u001b[39m\u001b[38;5;124mCannot pass both \u001b[39m\u001b[38;5;124m'\u001b[39m\u001b[38;5;124mtop\u001b[39m\u001b[38;5;124m'\u001b[39m\u001b[38;5;124m and \u001b[39m\u001b[38;5;124m'\u001b[39m\u001b[38;5;124mymax\u001b[39m\u001b[38;5;124m'\u001b[39m\u001b[38;5;124m\"\u001b[39m)\n\u001b[1;32m   4016\u001b[0m     top \u001b[38;5;241m=\u001b[39m ymax\n\u001b[0;32m-> 4017\u001b[0m \u001b[38;5;28;01mreturn\u001b[39;00m \u001b[38;5;28;43mself\u001b[39;49m\u001b[38;5;241;43m.\u001b[39;49m\u001b[43myaxis\u001b[49m\u001b[38;5;241;43m.\u001b[39;49m\u001b[43m_set_lim\u001b[49m\u001b[43m(\u001b[49m\u001b[43mbottom\u001b[49m\u001b[43m,\u001b[49m\u001b[43m \u001b[49m\u001b[43mtop\u001b[49m\u001b[43m,\u001b[49m\u001b[43m \u001b[49m\u001b[43memit\u001b[49m\u001b[38;5;241;43m=\u001b[39;49m\u001b[43memit\u001b[49m\u001b[43m,\u001b[49m\u001b[43m \u001b[49m\u001b[43mauto\u001b[49m\u001b[38;5;241;43m=\u001b[39;49m\u001b[43mauto\u001b[49m\u001b[43m)\u001b[49m\n",
      "File \u001b[0;32m~/anaconda3/envs/Torch/lib/python3.10/site-packages/matplotlib/axis.py:1228\u001b[0m, in \u001b[0;36mAxis._set_lim\u001b[0;34m(self, v0, v1, emit, auto)\u001b[0m\n\u001b[1;32m   1226\u001b[0m \u001b[38;5;28mself\u001b[39m\u001b[38;5;241m.\u001b[39maxes\u001b[38;5;241m.\u001b[39m_process_unit_info([(name, (v0, v1))], convert\u001b[38;5;241m=\u001b[39m\u001b[38;5;28;01mFalse\u001b[39;00m)\n\u001b[1;32m   1227\u001b[0m v0 \u001b[38;5;241m=\u001b[39m \u001b[38;5;28mself\u001b[39m\u001b[38;5;241m.\u001b[39maxes\u001b[38;5;241m.\u001b[39m_validate_converted_limits(v0, \u001b[38;5;28mself\u001b[39m\u001b[38;5;241m.\u001b[39mconvert_units)\n\u001b[0;32m-> 1228\u001b[0m v1 \u001b[38;5;241m=\u001b[39m \u001b[38;5;28;43mself\u001b[39;49m\u001b[38;5;241;43m.\u001b[39;49m\u001b[43maxes\u001b[49m\u001b[38;5;241;43m.\u001b[39;49m\u001b[43m_validate_converted_limits\u001b[49m\u001b[43m(\u001b[49m\u001b[43mv1\u001b[49m\u001b[43m,\u001b[49m\u001b[43m \u001b[49m\u001b[38;5;28;43mself\u001b[39;49m\u001b[38;5;241;43m.\u001b[39;49m\u001b[43mconvert_units\u001b[49m\u001b[43m)\u001b[49m\n\u001b[1;32m   1230\u001b[0m \u001b[38;5;28;01mif\u001b[39;00m v0 \u001b[38;5;129;01mis\u001b[39;00m \u001b[38;5;28;01mNone\u001b[39;00m \u001b[38;5;129;01mor\u001b[39;00m v1 \u001b[38;5;129;01mis\u001b[39;00m \u001b[38;5;28;01mNone\u001b[39;00m:\n\u001b[1;32m   1231\u001b[0m     \u001b[38;5;66;03m# Axes init calls set_xlim(0, 1) before get_xlim() can be called,\u001b[39;00m\n\u001b[1;32m   1232\u001b[0m     \u001b[38;5;66;03m# so only grab the limits if we really need them.\u001b[39;00m\n\u001b[1;32m   1233\u001b[0m     old0, old1 \u001b[38;5;241m=\u001b[39m \u001b[38;5;28mself\u001b[39m\u001b[38;5;241m.\u001b[39mget_view_interval()\n",
      "File \u001b[0;32m~/anaconda3/envs/Torch/lib/python3.10/site-packages/matplotlib/axes/_base.py:3704\u001b[0m, in \u001b[0;36m_AxesBase._validate_converted_limits\u001b[0;34m(self, limit, convert)\u001b[0m\n\u001b[1;32m   3701\u001b[0m     converted_limit \u001b[38;5;241m=\u001b[39m converted_limit\u001b[38;5;241m.\u001b[39msqueeze()\n\u001b[1;32m   3702\u001b[0m \u001b[38;5;28;01mif\u001b[39;00m (\u001b[38;5;28misinstance\u001b[39m(converted_limit, Real)\n\u001b[1;32m   3703\u001b[0m         \u001b[38;5;129;01mand\u001b[39;00m \u001b[38;5;129;01mnot\u001b[39;00m np\u001b[38;5;241m.\u001b[39misfinite(converted_limit)):\n\u001b[0;32m-> 3704\u001b[0m     \u001b[38;5;28;01mraise\u001b[39;00m \u001b[38;5;167;01mValueError\u001b[39;00m(\u001b[38;5;124m\"\u001b[39m\u001b[38;5;124mAxis limits cannot be NaN or Inf\u001b[39m\u001b[38;5;124m\"\u001b[39m)\n\u001b[1;32m   3705\u001b[0m \u001b[38;5;28;01mreturn\u001b[39;00m converted_limit\n",
      "\u001b[0;31mValueError\u001b[0m: Axis limits cannot be NaN or Inf"
     ]
    }
   ],
   "source": [
    "import backtrader as bt\n",
    "import backtrader.analyzers as btanalyzers\n",
    "\n",
    "class FactorInvestmentStrategy(bt.Strategy):\n",
    "    def __init__(self):\n",
    "        self.size = 0  # 用於保存持倉量\n",
    "        self.top_stocks = top_stocks  # 使用之前選定的投資組合\n",
    "\n",
    "    def next(self):\n",
    "        if not self.position:\n",
    "            cash = self.broker.getcash()\n",
    "            per_stock_cash = cash / len(self.top_stocks)\n",
    "            for data in self.datas:\n",
    "                if data._name in self.top_stocks:\n",
    "                    size = 0  # Initialize size\n",
    "                    if not pd.isna(data.close[0]):\n",
    "                        size = int(per_stock_cash / data.close[0])\n",
    "                    self.buy(data=data, size=size)\n",
    "\n",
    "cerebro = bt.Cerebro()\n",
    "\n",
    "# 添加策略\n",
    "cerebro.addstrategy(FactorInvestmentStrategy)\n",
    "\n",
    "# 添加選定股票的數據\n",
    "for symbol in top_stocks:\n",
    "    data_feed = bt.feeds.PandasData(dataname=yf.download(tickers=symbol, start='2024-01-01', end='2025-02-18', auto_adjust=False)['Adj Close'])\n",
    "    \n",
    "    cerebro.adddata(data_feed, name=symbol)\n",
    "\n",
    "# 設定初始資金\n",
    "cerebro.broker.setcash(100000.0)\n",
    "\n",
    "# 添加分析工具\n",
    "cerebro.addanalyzer(btanalyzers.SharpeRatio, _name=\"sharpe\", timeframe=bt.TimeFrame.Days, annualize=True)\n",
    "cerebro.addanalyzer(btanalyzers.DrawDown, _name=\"drawdown\")\n",
    "cerebro.addanalyzer(btanalyzers.Returns, _name=\"returns\")\n",
    "\n",
    "# 執行回測\n",
    "result = cerebro.run()\n",
    "strategy = result[0]\n",
    "\n",
    "# 提取分析結果\n",
    "sharpe_ratio = strategy.analyzers.sharpe.get_analysis().get('sharperatio', None)\n",
    "max_drawdown = strategy.analyzers.drawdown.get_analysis().get('max', {}).get('drawdown', None)\n",
    "total_return = strategy.analyzers.returns.get_analysis().get('rnorm100', None)\n",
    "\n",
    "# 打印分析結果\n",
    "print(f\"夏普比率: {sharpe_ratio:.2f}\" if sharpe_ratio is not None else \"夏普比率: 無法計算\")\n",
    "print(f\"最大回撤: {max_drawdown:.2f}%\")\n",
    "print(f\"總收益: {total_return:.2f}%\")\n",
    "\n",
    "import matplotlib.pyplot as plt\n",
    "%matplotlib inline\n",
    "\n",
    "# 確保數據沒有 NaN 或無限值\n",
    "for symbol in top_stocks:\n",
    "    data_feed = yf.download(tickers=symbol, start='2024-01-01', end='2025-02-18', auto_adjust=False)['Adj Close']\n",
    "    data_feed.dropna(inplace=True)\n",
    "    data_feed.replace([float('inf'), float('-inf')], float('nan'), inplace=True)\n",
    "    data_feed.dropna(inplace=True)\n",
    "    cerebro.adddata(bt.feeds.PandasData(dataname=data_feed), name=symbol)\n",
    "\n",
    "# 執行回測\n",
    "cerebro.run()\n",
    "\n",
    "plt.rcParams['figure.figsize'] = [15, 12]\n",
    "plt.rcParams.update({'font.size': 12})\n",
    "img = cerebro.plot(iplot=False)\n",
    "img[0][0].savefig('backtrader_factor.png')"
   ]
  }
 ],
 "metadata": {
  "kernelspec": {
   "display_name": "Torch",
   "language": "python",
   "name": "python3"
  },
  "language_info": {
   "codemirror_mode": {
    "name": "ipython",
    "version": 3
   },
   "file_extension": ".py",
   "mimetype": "text/x-python",
   "name": "python",
   "nbconvert_exporter": "python",
   "pygments_lexer": "ipython3",
   "version": "3.10.16"
  }
 },
 "nbformat": 4,
 "nbformat_minor": 2
}
