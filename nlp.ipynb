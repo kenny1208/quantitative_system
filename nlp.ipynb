{
 "cells": [
  {
   "cell_type": "code",
   "execution_count": null,
   "metadata": {},
   "outputs": [],
   "source": [
    "import nltk\n",
    "from nltk.sentiment import SentimentIntensityAnalyzer\n",
    "import spacy\n",
    "from textblob import TextBlob\n",
    "import tweepy\n",
    "from newspaper import Article\n",
    "import pandas as pd\n",
    "import matplotlib.pyplot as plt\n",
    "from wordcloud import WordCloud"
   ]
  },
  {
   "cell_type": "code",
   "execution_count": 1,
   "metadata": {},
   "outputs": [
    {
     "ename": "NameError",
     "evalue": "name 'nltk' is not defined",
     "output_type": "error",
     "traceback": [
      "\u001b[0;31m---------------------------------------------------------------------------\u001b[0m",
      "\u001b[0;31mNameError\u001b[0m                                 Traceback (most recent call last)",
      "Cell \u001b[0;32mIn[1], line 1\u001b[0m\n\u001b[0;32m----> 1\u001b[0m \u001b[43mnltk\u001b[49m\u001b[38;5;241m.\u001b[39mdownload(\u001b[38;5;124m'\u001b[39m\u001b[38;5;124mvader_lexicon\u001b[39m\u001b[38;5;124m'\u001b[39m)\n\u001b[1;32m      2\u001b[0m nltk\u001b[38;5;241m.\u001b[39mdownload(\u001b[38;5;124m'\u001b[39m\u001b[38;5;124mpunkt\u001b[39m\u001b[38;5;124m'\u001b[39m)\n",
      "\u001b[0;31mNameError\u001b[0m: name 'nltk' is not defined"
     ]
    }
   ],
   "source": [
    "nltk.download('vader_lexicon')\n",
    "nltk.download('punkt')"
   ]
  },
  {
   "cell_type": "code",
   "execution_count": null,
   "metadata": {},
   "outputs": [
    {
     "name": "stdout",
     "output_type": "stream",
     "text": [
      "{'neg': 0.086, 'neu': 0.586, 'pos': 0.328, 'compound': 0.8011}\n"
     ]
    }
   ],
   "source": [
    "sia = SentimentIntensityAnalyzer()\n",
    "\n",
    "sentence = \"Apple's new product has received rave reviews from critics. Everyone loves the new apple product! Great job, Apple!\"\n",
    "scores = sia.polarity_scores(sentence)\n",
    "print(scores)"
   ]
  },
  {
   "cell_type": "code",
   "execution_count": null,
   "metadata": {},
   "outputs": [
    {
     "name": "stdout",
     "output_type": "stream",
     "text": [
      "A view of Apple's new iPhone 16 at an Apple Store on the Regent Street in London, United Kingdom on September 20, 2024.\n",
      "\n",
      "As Apple prepares Apple Intelligence to jump into Silicon Valley's AI race, it's relying on one of its strongest advantages: Its army of 34 million app developers.\n",
      "\n",
      "IPhone users will get their first taste of Apple Intelligence, the company's artificial intelligence system, later this month. The company is relying on Apple Intelligence to be the strongest selling point for the iPhone 16, its latest generation of smartphones.\n",
      "\n",
      "Apple's AI isn't as advanced as the state of the art coming out of the most advanced labs, such as rivals like OpenAI's ChatGPT, Google's Gemini and Meta's Llama. Apple isn't using the biggest models, nor can it pull off some of the more show-stopping tricks of the bleeding-edge voice models — OpenAI's latest can sing, for example.\n",
      "\n",
      "Where Apple is hoping to distinguish its AI is that Siri may actually be able to do things on your phone — send emails, decipher calendars and take and edit photos. That's something other company's AI chatbots cannot currently do, and to accomplish this, Apple is beckoning its army of third-party developers to fine tune their apps to collaborate with Apple Intelligence. Eventually, Siri may be able to trigger any action in an app that a user can take, part of the company's long term vision for Siri, Apple said in June.\n",
      "\n",
      "\"Siri will have the ability to take hundreds of new actions in and across apps,\" said Apple's Kelsey Peterson, director of machine learning, in the Apple Intelligence launch video.\n",
      "\n",
      "Apple can easily make this happen for its own apps, but for Apple Intelligence to interact with the millions of non-Apple apps, it needs developers to embrace a new way of programming their apps. This means developers will need to create as many as hundreds of snippets of additional code called App Intents.\n",
      "\n",
      "Apple has a strong history of getting its developers to support new platform initiatives, and it's running a well-worn playbook to get them on board — personal attention from developer relations, a party-like atmosphere at the company's annual developer's conference and most importantly, it dangles App Store promotion that can lead to millions of downloads for developers who get on board.\n",
      "\n",
      "If third-party developers jump on board and the Siri system works as advertised, it could represent one of Apple's biggest and most durable advantages in the AI race.\n",
      "\n",
      "\"You should be able to string things together and kind of get that future we've all been envisioning where you can use Siri conversationally, to do a bunch of things at once,\" said Jordan Morgan, an iOS developer who's written a tutorial about App Intents.\n",
      "\n",
      "Whether Apple is successful at cajoling its millions of developers is a critical question, and the stakes are high for the company.\n",
      "\n",
      "The company is relying on Apple Intelligence, which only works on last year's iPhone 15 Pro or iPhone 16 models that came out this year, to spur a wave of upgrades and boost flat iPhone sales. If Apple's improved Siri is poorly supported by developers or it fails to impress, it could cool iPhone sales, and customers could wind up choosing to use a rival's voice assistant through an app instead of the built-in Siri.\n"
     ]
    }
   ],
   "source": [
    "url = 'https://www.cnbc.com/2024/10/04/apple-is-turning-to-its-army-of-developers-for-an-edge-in-the-ai-race.html?&qsearchterm=apple'\n",
    "article = Article(url)\n",
    "\n",
    "article.download()\n",
    "article.parse()\n",
    "text = article.text\n",
    "print(text)"
   ]
  },
  {
   "cell_type": "code",
   "execution_count": null,
   "metadata": {},
   "outputs": [
    {
     "name": "stdout",
     "output_type": "stream",
     "text": [
      "{'neg': 0.018, 'neu': 0.843, 'pos': 0.139, 'compound': 0.9965}\n"
     ]
    }
   ],
   "source": [
    "scores = sia.polarity_scores(text)\n",
    "print(scores)"
   ]
  },
  {
   "cell_type": "code",
   "execution_count": null,
   "metadata": {},
   "outputs": [
    {
     "name": "stdout",
     "output_type": "stream",
     "text": [
      "Apple ORG\n",
      "iPhone ORG\n",
      "16 CARDINAL\n",
      "the Regent Street ORG\n",
      "London GPE\n",
      "United Kingdom GPE\n",
      "September 20, 2024 DATE\n",
      "Apple ORG\n",
      "Apple Intelligence ORG\n",
      "Silicon Valley's LOC\n",
      "AI GPE\n",
      "one CARDINAL\n",
      "34 million CARDINAL\n",
      "first ORDINAL\n",
      "Apple Intelligence ORG\n",
      "later this month DATE\n",
      "Apple Intelligence ORG\n",
      "Apple ORG\n",
      "OpenAI ORG\n",
      "Google ORG\n",
      "Gemini ORG\n",
      "Meta ORG\n",
      "Llama PRODUCT\n",
      "Apple ORG\n",
      "OpenAI ORG\n",
      "Apple ORG\n",
      "AI GPE\n",
      "Siri GPE\n",
      "AI ORG\n",
      "Apple ORG\n",
      "third ORDINAL\n",
      "Apple Intelligence ORG\n",
      "Siri, ORG\n",
      "Apple ORG\n",
      "June DATE\n",
      "hundreds CARDINAL\n",
      "Apple ORG\n",
      "Kelsey Peterson PERSON\n",
      "Apple Intelligence ORG\n",
      "Apple ORG\n",
      "Apple Intelligence ORG\n",
      "millions CARDINAL\n",
      "non-Apple NORP\n",
      "as many as hundreds CARDINAL\n",
      "App Intents PRODUCT\n",
      "Apple ORG\n",
      "annual DATE\n",
      "App Store PERSON\n",
      "millions CARDINAL\n",
      "third ORDINAL\n",
      "one CARDINAL\n",
      "Apple ORG\n",
      "AI GPE\n",
      "Jordan Morgan PERSON\n",
      "App Intents PERSON\n",
      "Apple ORG\n",
      "millions CARDINAL\n",
      "Apple Intelligence ORG\n",
      "last year's DATE\n",
      "15 CARDINAL\n",
      "16 CARDINAL\n",
      "this year DATE\n",
      "Apple ORG\n",
      "Siri GPE\n",
      "Siri GPE\n"
     ]
    }
   ],
   "source": [
    "nlp = spacy.load('en_core_web_sm')\n",
    "doc = nlp(text)\n",
    "for ent in doc.ents:\n",
    "    print(ent.text, ent.label_)"
   ]
  },
  {
   "cell_type": "code",
   "execution_count": null,
   "metadata": {},
   "outputs": [],
   "source": [
    "client = tweepy.Client(\n",
    "    bearer_token='AAAAAAAAAAAAAAAAAAAAAAxp0AEAAAAAOlMfaMmWluJHkqtWaI4tK%2Ff1O2I%3DyTGa8U9dgcCAY3TILucgNGRpQQ6Oala7xsWBPEGBt1fue6Hxyk',\n",
    "    consumer_key='TZAGJHDHylimNuPSEEDr38ddA',\n",
    "    consumer_secret='ZwBAt2IieckHCDjCsYBQ14Lnaaf3ZnHeTPNaGZAHOk2KWlBoNc',\n",
    "    access_token='883451758659239937-WsgdffhRF79JMRa2c5yhZ5k54vPmnKC',\n",
    "    access_token_secret='rsQMoSphf84sErGInLehvxUeQNR5hOEKmlt0mXu1dmC4Z'\n",
    ")\n"
   ]
  },
  {
   "cell_type": "code",
   "execution_count": null,
   "metadata": {},
   "outputs": [
    {
     "name": "stdout",
     "output_type": "stream",
     "text": [
      "RT @timetravelr_: An Apple a day...an original wallpaper by the Time Traveler ✨ https://t.co/KhtQcLmNwg\n",
      "@LeoDuffOff Pourquoi je trouve ça normal de la part d'apple de faire de la merde avec un bel emballage ?\n",
      "RT @KeniaOsReport: 🇲🇽 Apple Music México:\n",
      "\n",
      "#98. “Una Nada Más” — Los @AngelesAzulesMx &amp; @KeniaOS (+13) *New Peak*\n",
      "\n",
      " https://t.co/4bvHQYkkDP\n",
      "RT @AppleMusic: j-hope of @bts_bighit drops another infectious single while on his HOPE ON THE STAGE tour. “MONA LISA” is out now: https://…\n",
      "@Elitheggoat1 Inbox 📨 me with your cash tag or PayPal or Apple pay or Zelle or venmo and get spoiled immediately now 💙💙💙https://t.co/qyFpdop0AG\n",
      "RT @Big_Aby: 🐐❤️ https://t.co/X4uG5FirDi\n",
      "Apple Bottom Jeans Ad featured in the June Issue of Vibe Magazine (2003) https://t.co/a39YKSUpC2\n",
      "RT @mba_phone_store: APPLE WATCH ⌚️ \n",
      "\n",
      "SERIES 7 \n",
      "45MM\n",
      " \n",
      "N 315,000\n",
      "\n",
      "✅UK USED \n",
      "✅Dm/Call :07032655719 \n",
      "\n",
      "📍KADUNA\n",
      "\n",
      "RETWEET 🙏🏽🙏🏽 https://t.co/fCl5…\n",
      "@tanyakanrl Semuanya authorized reseller apple jadi sama aja, beda di kodenya dan garansi. Kalo nyari promo mending ke digimap/blibli store biasanya banyak voucher, blibli juga ngasih garansi human error gratis kalo beli di ibox lebih jeli cek nota ya 🤣\n",
      "Can I cash app or Apple Pay or PayPal Venmo and Zelle  you some cash 💸 for some Financially blessings 💕I hope we all believe in the holy bible and the Lord of karma as well....🙏🏼 https://t.co/OtnC5hAIRg\n"
     ]
    }
   ],
   "source": [
    "response = client.search_recent_tweets(query=\"Apple\", max_results=100)\n",
    "for tweet in response.data:\n",
    "    print(tweet.text)"
   ]
  },
  {
   "cell_type": "code",
   "execution_count": null,
   "metadata": {},
   "outputs": [],
   "source": [
    "tweet_texts = [tweet.text for tweet in response.data]\n",
    "scores = [sia.polarity_scores(text)['compound'] for text in tweet_texts]"
   ]
  },
  {
   "cell_type": "code",
   "execution_count": null,
   "metadata": {},
   "outputs": [
    {
     "data": {
      "image/png": "[encoded data removed]",
      "text/plain": [
       "<Figure size 640x480 with 1 Axes>"
      ]
     },
     "metadata": {},
     "output_type": "display_data"
    }
   ],
   "source": [
    "plt.hist(scores, bins=20)\n",
    "plt.title('Sentiment Distribution about Apple on Twitter')\n",
    "plt.xlabel('Sentiment Score')\n",
    "plt.ylabel('Number of Tweets')\n",
    "plt.show()"
   ]
  }
 ],
 "metadata": {
  "kernelspec": {
   "display_name": "Torch",
   "language": "python",
   "name": "python3"
  },
  "language_info": {
   "codemirror_mode": {
    "name": "ipython",
    "version": 3
   },
   "file_extension": ".py",
   "mimetype": "text/x-python",
   "name": "python",
   "nbconvert_exporter": "python",
   "pygments_lexer": "ipython3",
   "version": "3.10.16"
  }
 },
 "nbformat": 4,
 "nbformat_minor": 2
}
